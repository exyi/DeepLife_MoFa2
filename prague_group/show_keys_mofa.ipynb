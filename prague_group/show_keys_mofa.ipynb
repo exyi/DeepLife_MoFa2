{
 "cells": [
  {
   "cell_type": "code",
   "execution_count": 4,
   "id": "initial_id",
   "metadata": {
    "ExecuteTime": {
     "end_time": "2024-06-04T16:10:46.702215Z",
     "start_time": "2024-06-04T16:10:46.595485Z"
    }
   },
   "outputs": [],
   "source": [
    "from h5py import File\n",
    "from show_keys_h5py import show_keys\n",
    "\n",
    "\n",
    "dir = \"/scratch/deeplife/projekt/models/\""
   ]
  },
  {
   "cell_type": "markdown",
   "id": "911fe8eb8a928e93",
   "metadata": {
    "collapsed": false
   },
   "source": [
    "## h5py keys from the homework"
   ]
  },
  {
   "cell_type": "code",
   "execution_count": 5,
   "id": "1e118a1f7291425b",
   "metadata": {
    "ExecuteTime": {
     "end_time": "2024-06-04T16:12:01.771045Z",
     "start_time": "2024-06-04T16:12:01.733299Z"
    },
    "collapsed": false,
    "jupyter": {
     "outputs_hidden": false
    }
   },
   "outputs": [
    {
     "name": "stdout",
     "output_type": "stream",
     "text": [
      "data\n",
      "  drugs\n",
      "    group1\n",
      "      (200, 310)\n",
      "  mRNA\n",
      "    group1\n",
      "      (200, 5000)\n",
      "  methylation\n",
      "    group1\n",
      "      (200, 4248)\n",
      "  mutations\n",
      "    group1\n",
      "      (200, 69)\n",
      "expectations\n",
      "  W\n",
      "    drugs\n",
      "      (15, 310)\n",
      "    mRNA\n",
      "      (15, 5000)\n",
      "    methylation\n",
      "      (15, 4248)\n",
      "    mutations\n",
      "      (15, 69)\n",
      "  Z\n",
      "    group1\n",
      "      (15, 200)\n",
      "features\n",
      "  drugs\n",
      "    (310,)\n",
      "  mRNA\n",
      "    (5000,)\n",
      "  methylation\n",
      "    (4248,)\n",
      "  mutations\n",
      "    (69,)\n",
      "groups\n",
      "  groups\n",
      "    (1,)\n",
      "intercepts\n",
      "  drugs\n",
      "    group1\n",
      "      (310,)\n",
      "  mRNA\n",
      "    group1\n",
      "      (5000,)\n",
      "  methylation\n",
      "    group1\n",
      "      (4248,)\n",
      "  mutations\n",
      "    group1\n",
      "      (69,)\n",
      "model_options\n",
      "  ard_factors\n",
      "    ()\n",
      "  ard_weights\n",
      "    ()\n",
      "  likelihoods\n",
      "    (4,)\n",
      "  spikeslab_factors\n",
      "    ()\n",
      "  spikeslab_weights\n",
      "    ()\n",
      "samples\n",
      "  group1\n",
      "    (200,)\n",
      "samples_metadata\n",
      "  group1\n",
      "    Gender\n",
      "      (200,)\n",
      "    IGHV\n",
      "      (200,)\n",
      "    TTD\n",
      "      (200,)\n",
      "    TTT\n",
      "      (200,)\n",
      "    age\n",
      "      (200,)\n",
      "    died\n",
      "      (200,)\n",
      "    treatedAfter\n",
      "      (200,)\n",
      "    trisomy12\n",
      "      (200,)\n",
      "training_opts\n",
      "  (6,)\n",
      "training_stats\n",
      "  elbo\n",
      "    (201,)\n",
      "  number_factors\n",
      "    (201,)\n",
      "  time\n",
      "    (201,)\n",
      "variance_explained\n",
      "  r2_per_factor\n",
      "    group1\n",
      "      (4, 15)\n",
      "  r2_total\n",
      "    group1\n",
      "      (4,)\n",
      "views\n",
      "  views\n",
      "    (4,)\n"
     ]
    }
   ],
   "source": [
    "mofa_data = File(dir+'CLL.hdf5')\n",
    "show_keys(mofa_data)\n"
   ]
  },
  {
   "cell_type": "markdown",
   "id": "9e6ff3e6a5462f9",
   "metadata": {
    "collapsed": false
   },
   "source": [
    "## Our pyro h5py keys"
   ]
  },
  {
   "cell_type": "code",
   "execution_count": 6,
   "id": "1fe622e5095c8ed2",
   "metadata": {
    "ExecuteTime": {
     "end_time": "2024-06-04T16:10:48.556540Z",
     "start_time": "2024-06-04T16:10:48.517594Z"
    },
    "collapsed": false,
    "jupyter": {
     "outputs_hidden": false
    }
   },
   "outputs": [
    {
     "name": "stdout",
     "output_type": "stream",
     "text": [
      "data\n",
      "  protein\n",
      "    group1\n",
      "      (5527, 32)\n",
      "  rna\n",
      "    group1\n",
      "      (5527, 15330)\n",
      "expectations\n",
      "  W\n",
      "    protein\n",
      "      (5, 32)\n",
      "    rna\n",
      "      (5, 15330)\n",
      "  Z\n",
      "    group1\n",
      "      (5, 5527)\n",
      "features\n",
      "  protein\n",
      "    (32,)\n",
      "  rna\n",
      "    (15330,)\n",
      "model_options\n",
      "  likelihoods\n",
      "    (2,)\n",
      "samples\n",
      "  group1\n",
      "    (5527,)\n"
     ]
    }
   ],
   "source": [
    "mofa_data = File(dir+'pyro-MOFA.h5')\n",
    "show_keys(mofa_data)"
   ]
  },
  {
   "cell_type": "code",
   "execution_count": null,
   "id": "912891c5-325a-41bb-97d4-513e186ccd9e",
   "metadata": {},
   "outputs": [],
   "source": []
  }
 ],
 "metadata": {
  "kernelspec": {
   "display_name": "Python 3 (ipykernel)",
   "language": "python",
   "name": "python3"
  },
  "language_info": {
   "codemirror_mode": {
    "name": "ipython",
    "version": 3
   },
   "file_extension": ".py",
   "mimetype": "text/x-python",
   "name": "python",
   "nbconvert_exporter": "python",
   "pygments_lexer": "ipython3",
   "version": "3.12.3"
  }
 },
 "nbformat": 4,
 "nbformat_minor": 5
}
